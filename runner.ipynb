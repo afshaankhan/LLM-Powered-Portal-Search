{
 "cells": [
  {
   "cell_type": "markdown",
   "metadata": {},
   "source": [
    "# Index Creation\n",
    "**Keys in index_config:**\n",
    "1. **filename** - name of a pdf file or a json file. If its pdf file, the file is obtained from reports_folder. If its json file, the file is obtained from scraped_data_folder\n",
    "2. **index_name** - Name of index\n",
    "3. **l1_chunk_size** - Specifies size of chunk for L1 index creation.\n",
    "4. **l2_chunk_size** - Specifies size of chunk for L2 index creation.\n",
    "5. **index_folder** (*optional*) - Folder within which index is stored.\n",
    "6. **index_path** (*optional*) - If not specified, company name is extracted from filename and index is stored within that folder.\n",
    "7. **embedding_model** (*optional*) - all_mpnet_base_v2 or text_embedding_004 from config.py\n",
    "8. **cleaning** (*optional*) - if True, scraped result is cleaned where websites that are old and irrelevant to investment are ignored in the process of index creation. Cleaning can sometimes be incorrect. Hence its better to disable it for smaller websites. This is applicable only for websites and not for other input files (like pdfs etc.)"
   ]
  },
  {
   "cell_type": "code",
   "execution_count": null,
   "metadata": {},
   "outputs": [
    {
     "name": "stderr",
     "output_type": "stream",
     "text": [
      "c:\\Users\\Venkat\\Study_Folder\\cuberdefecnec\\invest_insight\\venv\\Lib\\site-packages\\tqdm\\auto.py:21: TqdmWarning: IProgress not found. Please update jupyter and ipywidgets. See https://ipywidgets.readthedocs.io/en/stable/user_install.html\n",
      "  from .autonotebook import tqdm as notebook_tqdm\n"
     ]
    },
    {
     "name": "stdout",
     "output_type": "stream",
     "text": [
      "index_config={'filename': 'adanipower_cleaned.json', 'l1_chunk_size': 1500, 'l2_chunk_size': 300, 'cleaning': False, 'index_name': 'Adani Power'}\n",
      "Length of data: 10125\n",
      "Chunking to form L1 paras\n"
     ]
    },
    {
     "name": "stderr",
     "output_type": "stream",
     "text": [
      "100%|██████████| 5/5 [00:01<00:00,  2.81it/s]\n"
     ]
    },
    {
     "name": "stdout",
     "output_type": "stream",
     "text": [
      "Chunking to form L2 paras\n"
     ]
    },
    {
     "name": "stderr",
     "output_type": "stream",
     "text": [
      "100%|██████████| 5/5 [00:03<00:00,  1.64it/s]\n"
     ]
    },
    {
     "name": "stdout",
     "output_type": "stream",
     "text": [
      "Getting embeddings for L1 paras\n"
     ]
    },
    {
     "name": "stderr",
     "output_type": "stream",
     "text": [
      "c:\\Users\\Venkat\\Study_Folder\\cuberdefecnec\\invest_insight\\venv\\Lib\\site-packages\\huggingface_hub\\file_download.py:139: UserWarning: `huggingface_hub` cache-system uses symlinks by default to efficiently store duplicated files but your machine does not support them in C:\\Users\\Venkat\\.cache\\huggingface\\hub\\models--sentence-transformers--all-mpnet-base-v2. Caching files will still work but in a degraded version that might require more space on your disk. This warning can be disabled by setting the `HF_HUB_DISABLE_SYMLINKS_WARNING` environment variable. For more details, see https://huggingface.co/docs/huggingface_hub/how-to-cache#limitations.\n",
      "To support symlinks on Windows, you either need to activate Developer Mode or to run Python as an administrator. In order to activate developer mode, see this article: https://docs.microsoft.com/en-us/windows/apps/get-started/enable-your-device-for-development\n",
      "  warnings.warn(message)\n"
     ]
    },
    {
     "name": "stdout",
     "output_type": "stream",
     "text": [
      "len(texts)=8\n",
      "len(batches)=1\n",
      "100%|██████████| 1/1 [00:01<00:00,  1.47s/it]\n",
      "Getting embeddings for L2 paras\n",
      "len(texts)=37\n",
      "len(batches)=1\n",
      "100%|██████████| 1/1 [00:02<00:00,  2.09s/it]\n",
      "Building L1 and L2 indexes\n",
      "Creating index at: data\\index\\adanipower\\adanipower_cleaned_1500_300_EMtex.pkl\n",
      "Index created in 38.71962785720825 seconds\n",
      "=============================================================================\n"
     ]
    }
   ],
   "source": [
    "from src.index.index import config_to_index\n",
    "from src.config import company_to_index_name\n",
    "\n",
    "index_configs = [\n",
    "    {'filename': 'adanipower_cleaned.json', 'l1_chunk_size': 1500, 'l2_chunk_size':300, 'cleaning': False}\n",
    "]\n",
    "\n",
    "for i in range(len(index_configs)):\n",
    "    index_config = index_configs[i]\n",
    "    company_name = index_config['filename'].split('.')[0].split('_')[0]\n",
    "    index_config['index_name'] = company_to_index_name[company_name]\n",
    "    print(f'{index_config=}')\n",
    "    config_to_index(index_config)\n",
    "    print('=============================================================================')"
   ]
  },
  {
   "cell_type": "markdown",
   "metadata": {},
   "source": [
    "# Adding cleaned text to raw json\n",
    "Can be used to clean the files. Gemini-1.5-flash is used for cleaning"
   ]
  },
  {
   "cell_type": "code",
   "execution_count": null,
   "metadata": {},
   "outputs": [],
   "source": [
    "import os\n",
    "from src.config import scraped_data_folder\n",
    "from src.scrape_cleaning import add_cleaned_text\n",
    "scraped_file = 'adanipower.json'\n",
    "scraped_path = os.path.join(scraped_data_folder, scraped_file)\n",
    "cleaned_res = add_cleaned_text(scraped_path)"
   ]
  }
 ],
 "metadata": {
  "kernelspec": {
   "display_name": "venv",
   "language": "python",
   "name": "python3"
  },
  "language_info": {
   "codemirror_mode": {
    "name": "ipython",
    "version": 3
   },
   "file_extension": ".py",
   "mimetype": "text/x-python",
   "name": "python",
   "nbconvert_exporter": "python",
   "pygments_lexer": "ipython3",
   "version": "3.12.7"
  }
 },
 "nbformat": 4,
 "nbformat_minor": 2
}
